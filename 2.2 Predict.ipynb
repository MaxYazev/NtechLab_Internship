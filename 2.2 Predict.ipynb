{
 "cells": [
  {
   "cell_type": "code",
   "execution_count": 1,
   "metadata": {
    "colab": {},
    "colab_type": "code",
    "id": "EhTlo0qsZNVg"
   },
   "outputs": [],
   "source": [
    "def use_model(path_to_data: str, model, threshold: float=0.31191915, path_to_json: str='process_results.json'):\n",
    "    \"\"\"\n",
    "    Запускает модель, переданную в качестве параметров, применяя к ней метод .predict()\n",
    "    и сохраняет результат в файл process_results.json\n",
    "     \n",
    "    :param path_to_data: Путь к папке с данными \n",
    "    :param model: Модель, с возможностью применить метод .predict()\n",
    "    :param threshold: Трешхолд\n",
    "    :param path_to_json: Путь с именем файла, в котором сохраняться результаты\n",
    "    \"\"\"\n",
    "    %tensorflow_version 1.x\n",
    "    import tensorflow as tf\n",
    "    from tensorflow.keras.preprocessing.image import ImageDataGenerator\n",
    "    from pathlib import Path\n",
    "    import pandas as pd\n",
    "    import json\n",
    "    ! pip install keras_vggface\n",
    "    from keras_vggface import utils\n",
    "\n",
    "    base_dir = Path(path_to_data)\n",
    "\n",
    "    filenames = list(map(lambda x: str(x.name), base_dir.glob('*.jpg')))\n",
    "    \n",
    "    df = pd.DataFrame({'file_name': filenames})\n",
    "\n",
    "    def preprocess_input_facenet(image):\n",
    "        \"\"\"\n",
    "        image -- тензор размера (1, H, W, 3)\n",
    "        return: картинка, с примененным preprocess_input(..., version=2) из keras_vggface \n",
    "        \"\"\"\n",
    "   \n",
    "\n",
    "        preprocessed = utils.preprocess_input(image, version=2)\n",
    "\n",
    "        return preprocessed\n",
    "\n",
    "    image_gen = ImageDataGenerator(preprocessing_function=preprocess_input_facenet)\n",
    "\n",
    "    data_gen = image_gen.flow_from_dataframe(\n",
    "                                dataframe=df,\n",
    "                                directory=base_dir,\n",
    "                                x_col='file_name',\n",
    "                                weight_col=None,\n",
    "                                target_size=(224, 224),\n",
    "                                color_mode=\"rgb\",\n",
    "                                classes=None,\n",
    "                                class_mode=None,\n",
    "                                shuffle=True,\n",
    "                                seed=None,\n",
    "                                save_to_dir=None,\n",
    "                                save_prefix=\"\",\n",
    "                                subset=None,\n",
    "                                interpolation=\"nearest\",\n",
    "                                validate_filenames=True)\n",
    "\n",
    "    preds = model.predict(data_gen)\n",
    "\n",
    "    df['preds'] = preds\n",
    "    df['preds'] = df['preds'].apply(lambda x: x>threshold).map({True: 'male', False: 'female'}) \n",
    "\n",
    "    json_dict = json.dumps(dict(zip(df['file_name'], df['preds'])))\n",
    "\n",
    "    with open(path_to_json, 'w') as f:\n",
    "        json.dump(json_dict, f)"
   ]
  },
  {
   "cell_type": "code",
   "execution_count": null,
   "metadata": {},
   "outputs": [],
   "source": []
  }
 ],
 "metadata": {
  "colab": {
   "name": "2.2 Predict.ipynb",
   "provenance": []
  },
  "kernelspec": {
   "display_name": "Python 3",
   "language": "python",
   "name": "python3"
  },
  "language_info": {
   "codemirror_mode": {
    "name": "ipython",
    "version": 3
   },
   "file_extension": ".py",
   "mimetype": "text/x-python",
   "name": "python",
   "nbconvert_exporter": "python",
   "pygments_lexer": "ipython3",
   "version": "3.8.3"
  }
 },
 "nbformat": 4,
 "nbformat_minor": 1
}
