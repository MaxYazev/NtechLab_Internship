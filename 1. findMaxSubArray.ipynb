{
 "cells": [
  {
   "cell_type": "code",
   "execution_count": 1,
   "metadata": {},
   "outputs": [],
   "source": [
    "def findMaxSubArray(A):\n",
    "    \"\"\"\n",
    "    param: A массив целых чисел ненулевой длины\n",
    "    return: непрерывный подмассив массива А ненулевой длины,\n",
    "            который имеет наибольшую сумму среди всех непрерывных\n",
    "            подмассивов массива А\n",
    "    \"\"\"\n",
    "    summ = 0\n",
    "    current_max_summ = A[0]\n",
    "    start = 0\n",
    "    true_start = 0\n",
    "    finish = 0\n",
    "    for i in range(len(A)):\n",
    "        summ += A[i]\n",
    "        if summ > current_max_summ or (summ == current_max_summ and start == finish):\n",
    "            current_max_summ = summ\n",
    "            finish = i + 1\n",
    "            true_start = start\n",
    "\n",
    "        if summ <= 0:\n",
    "            summ = 0\n",
    "            start = i + 1\n",
    "\n",
    "    if start >= finish:\n",
    "        start = finish - 1\n",
    "\n",
    "    return A[true_start:finish]"
   ]
  },
  {
   "cell_type": "code",
   "execution_count": 2,
   "metadata": {},
   "outputs": [
    {
     "data": {
      "text/plain": [
       "[4, -1, 2, 1]"
      ]
     },
     "execution_count": 2,
     "metadata": {},
     "output_type": "execute_result"
    }
   ],
   "source": [
    "test_list = [-2,1,-3,4,-1,2,1,-5,4]\n",
    "findMaxSubArray(test_list)"
   ]
  }
 ],
 "metadata": {
  "colab": {
   "collapsed_sections": [],
   "name": "Untitled",
   "provenance": []
  },
  "kernelspec": {
   "display_name": "Python 3",
   "language": "python",
   "name": "python3"
  },
  "language_info": {
   "codemirror_mode": {
    "name": "ipython",
    "version": 3
   },
   "file_extension": ".py",
   "mimetype": "text/x-python",
   "name": "python",
   "nbconvert_exporter": "python",
   "pygments_lexer": "ipython3",
   "version": "3.8.3"
  }
 },
 "nbformat": 4,
 "nbformat_minor": 1
}
